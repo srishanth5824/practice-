{
 "cells": [
  {
   "cell_type": "code",
   "execution_count": 1,
   "id": "02356c9b-24c7-4d40-adca-0e67f829e32e",
   "metadata": {},
   "outputs": [
    {
     "data": {
      "text/plain": [
       "56"
      ]
     },
     "execution_count": 1,
     "metadata": {},
     "output_type": "execute_result"
    }
   ],
   "source": [
    "a=56\n",
    "a\n"
   ]
  },
  {
   "cell_type": "code",
   "execution_count": 11,
   "id": "5dcb2535-422f-4b85-8d86-5d420c5b17f2",
   "metadata": {},
   "outputs": [
    {
     "data": {
      "text/plain": [
       "[23, 34, 45, 55, 54, 53]"
      ]
     },
     "execution_count": 11,
     "metadata": {},
     "output_type": "execute_result"
    }
   ],
   "source": [
    "a=[23,34,45,55,54,53]\n",
    "a"
   ]
  },
  {
   "cell_type": "code",
   "execution_count": 13,
   "id": "3475ea73-c31c-4f59-a0ea-e6f569185df8",
   "metadata": {},
   "outputs": [
    {
     "data": {
      "text/plain": [
       "list"
      ]
     },
     "execution_count": 13,
     "metadata": {},
     "output_type": "execute_result"
    }
   ],
   "source": [
    "type(a)"
   ]
  },
  {
   "cell_type": "code",
   "execution_count": 23,
   "id": "3268524d-0776-48d7-9345-56f591310b5a",
   "metadata": {},
   "outputs": [
    {
     "data": {
      "text/plain": [
       "list"
      ]
     },
     "execution_count": 23,
     "metadata": {},
     "output_type": "execute_result"
    }
   ],
   "source": [
    "c=[32,'pooj',2.1]\n",
    "type(c)"
   ]
  },
  {
   "cell_type": "code",
   "execution_count": 51,
   "id": "7495f3c7-0d75-4913-80c1-cb30b2ea87f7",
   "metadata": {},
   "outputs": [
    {
     "data": {
      "text/plain": [
       "[80.34, True, 'data']"
      ]
     },
     "execution_count": 51,
     "metadata": {},
     "output_type": "execute_result"
    }
   ],
   "source": [
    "c=['data',True,80.34,'hyderabuad']\n",
    "c[1]"
   ]
  },
  {
   "cell_type": "code",
   "execution_count": 46,
   "id": "864224ce-625a-4431-9be4-aa6c54674497",
   "metadata": {},
   "outputs": [
    {
     "data": {
      "text/plain": [
       "[True, 80.34]"
      ]
     },
     "execution_count": 46,
     "metadata": {},
     "output_type": "execute_result"
    }
   ],
   "source": [
    "c[1:3]"
   ]
  },
  {
   "cell_type": "markdown",
   "id": "d624f995-5943-407f-a32d-97426d594e6a",
   "metadata": {},
   "source": [
    "c[0::2]"
   ]
  },
  {
   "cell_type": "code",
   "execution_count": 49,
   "id": "632b5535-c6ba-4a27-a21a-8c614d6bfe88",
   "metadata": {},
   "outputs": [
    {
     "data": {
      "text/plain": [
       "['data', 80.34]"
      ]
     },
     "execution_count": 49,
     "metadata": {},
     "output_type": "execute_result"
    }
   ],
   "source": [
    "c[0::2]\n"
   ]
  },
  {
   "cell_type": "markdown",
   "id": "ac3878e5-077a-4395-8826-49edcae3859c",
   "metadata": {},
   "source": [
    "\n",
    "### LIST METHODS"
   ]
  },
  {
   "cell_type": "markdown",
   "id": "b4fab83d-4e92-4f3d-b694-e7c22e264211",
   "metadata": {},
   "source": [
    "#### LIST"
   ]
  },
  {
   "cell_type": "code",
   "execution_count": null,
   "id": "32b60230-049c-4e1c-aa18-2521c63d2034",
   "metadata": {},
   "outputs": [],
   "source": []
  }
 ],
 "metadata": {
  "kernelspec": {
   "display_name": "Python [conda env:base] *",
   "language": "python",
   "name": "conda-base-py"
  },
  "language_info": {
   "codemirror_mode": {
    "name": "ipython",
    "version": 3
   },
   "file_extension": ".py",
   "mimetype": "text/x-python",
   "name": "python",
   "nbconvert_exporter": "python",
   "pygments_lexer": "ipython3",
   "version": "3.12.7"
  }
 },
 "nbformat": 4,
 "nbformat_minor": 5
}
