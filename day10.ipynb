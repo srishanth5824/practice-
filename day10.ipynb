{
 "cells": [
  {
   "cell_type": "code",
   "execution_count": 3,
   "id": "81777e77-69bd-4773-a5a0-32c6c7b46a02",
   "metadata": {},
   "outputs": [],
   "source": [
    "import pandas as pd\n",
    "import numpy as np"
   ]
  },
  {
   "cell_type": "code",
   "execution_count": null,
   "id": "09d465b8-8f7d-480b-8055-ea57d483f53d",
   "metadata": {},
   "outputs": [],
   "source": [
    "df = pd.read_csv(\"universities.csv\")\n"
   ]
  },
  {
   "cell_type": "code",
   "execution_count": 15,
   "id": "b4dfc542-5333-4b11-8cc4-841391b041d6",
   "metadata": {},
   "outputs": [],
   "source": [
    "#Visualize the Grandrate using histogram\n",
    "import matplotlib.pyplot as plt\n",
    "import seaborn as sns"
   ]
  },
  {
   "cell_type": "code",
   "execution_count": null,
   "id": "d9b33d8f-1297-454e-8175-dbf903bfe4d7",
   "metadata": {},
   "outputs": [],
   "source": [
    "plt.figure(figsize=(6,3))\n",
    "plt.title(\"Acceptance Ratio\")\n",
    "plt.hist(df[\"Accept\"])"
   ]
  },
  {
   "cell_type": "code",
   "execution_count": null,
   "id": "5f1c50de-81cc-4c26-a2ae-194efbf4f24b",
   "metadata": {},
   "outputs": [],
   "source": [
    "sns.histlpot(df[\"Accept\"]), kde =Trued"
   ]
  },
  {
   "cell_type": "code",
   "execution_count": 5,
   "id": "cc0e46fa-883d-4bb5-8991-f98fec76948c",
   "metadata": {},
   "outputs": [
    {
     "data": {
      "text/plain": [
       "0    20\n",
       "1    15\n",
       "2    10\n",
       "3    25\n",
       "4    30\n",
       "5    28\n",
       "6    40\n",
       "7    45\n",
       "8    60\n",
       "dtype: int64"
      ]
     },
     "execution_count": 5,
     "metadata": {},
     "output_type": "execute_result"
    }
   ],
   "source": [
    "# Create a pandas series of batsman1 scores\n",
    "s1 = [20,15,10,25,30,28,40,45,60]\n",
    "scores1 = pd.Series(s1)\n",
    "scores1"
   ]
  },
  {
   "cell_type": "code",
   "execution_count": 17,
   "id": "879d2c1a-4677-47d7-ab4e-5163006cfdd5",
   "metadata": {},
   "outputs": [
    {
     "data": {
      "text/plain": [
       "{'whiskers': [<matplotlib.lines.Line2D at 0x136886f90>,\n",
       "  <matplotlib.lines.Line2D at 0x136887290>],\n",
       " 'caps': [<matplotlib.lines.Line2D at 0x136887560>,\n",
       "  <matplotlib.lines.Line2D at 0x136887860>],\n",
       " 'boxes': [<matplotlib.lines.Line2D at 0x136884140>],\n",
       " 'medians': [<matplotlib.lines.Line2D at 0x136887b60>],\n",
       " 'fliers': [<matplotlib.lines.Line2D at 0x136887dd0>],\n",
       " 'means': []}"
      ]
     },
     "execution_count": 17,
     "metadata": {},
     "output_type": "execute_result"
    },
    {
     "data": {
      "image/png": "[encoded data removed]",
      "text/plain": [
       "<Figure size 640x480 with 1 Axes>"
      ]
     },
     "metadata": {},
     "output_type": "display_data"
    }
   ],
   "source": [
    "plt.boxplot(scores1, vert=False)"
   ]
  },
  {
   "cell_type": "code",
   "execution_count": 19,
   "id": "dfc81fc3-727e-4e6d-8533-3d28af1abf00",
   "metadata": {},
   "outputs": [
    {
     "data": {
      "text/plain": [
       "0    20\n",
       "1    15\n",
       "2    10\n",
       "3    25\n",
       "4    30\n",
       "5    35\n",
       "6    45\n",
       "7    60\n",
       "8    69\n",
       "9    83\n",
       "dtype: int64"
      ]
     },
     "execution_count": 19,
     "metadata": {},
     "output_type": "execute_result"
    }
   ],
   "source": [
    "#create a pandas series of batsman1 scores \n",
    "s1 = [20,15,10,25,30,35,45,60,69,83]\n",
    "scores1 = pd.Series(s1)\n",
    "scores1"
   ]
  },
  {
   "cell_type": "code",
   "execution_count": 21,
   "id": "7265c7f4-dd8b-4829-bcba-8bd0fbe47f0a",
   "metadata": {},
   "outputs": [
    {
     "data": {
      "text/plain": [
       "{'whiskers': [<matplotlib.lines.Line2D at 0x1369596a0>,\n",
       "  <matplotlib.lines.Line2D at 0x136959940>],\n",
       " 'caps': [<matplotlib.lines.Line2D at 0x136959be0>,\n",
       "  <matplotlib.lines.Line2D at 0x1369583b0>],\n",
       " 'boxes': [<matplotlib.lines.Line2D at 0x136959430>],\n",
       " 'medians': [<matplotlib.lines.Line2D at 0x13695a000>],\n",
       " 'fliers': [<matplotlib.lines.Line2D at 0x13695a2a0>],\n",
       " 'means': []}"
      ]
     },
     "execution_count": 21,
     "metadata": {},
     "output_type": "execute_result"
    },
    {
     "data": {
      "image/png": "[encoded data removed]",
      "text/plain": [
       "<Figure size 640x480 with 1 Axes>"
      ]
     },
     "metadata": {},
     "output_type": "display_data"
    }
   ],
   "source": [
    "plt.boxplot(scores1, vert=False)"
   ]
  },
  {
   "cell_type": "code",
   "execution_count": null,
   "id": "4d4854b9-11fe-4352-a1bf-ea9957726325",
   "metadata": {},
   "outputs": [],
   "source": []
  }
 ],
 "metadata": {
  "kernelspec": {
   "display_name": "Python [conda env:base] *",
   "language": "python",
   "name": "conda-base-py"
  },
  "language_info": {
   "codemirror_mode": {
    "name": "ipython",
    "version": 3
   },
   "file_extension": ".py",
   "mimetype": "text/x-python",
   "name": "python",
   "nbconvert_exporter": "python",
   "pygments_lexer": "ipython3",
   "version": "3.12.7"
  }
 },
 "nbformat": 4,
 "nbformat_minor": 5
}
