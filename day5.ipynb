{
 "cells": [
  {
   "cell_type": "code",
   "execution_count": 1,
   "id": "02356c9b-24c7-4d40-adca-0e67f829e32e",
   "metadata": {},
   "outputs": [
    {
     "data": {
      "text/plain": [
       "56"
      ]
     },
     "execution_count": 1,
     "metadata": {},
     "output_type": "execute_result"
    }
   ],
   "source": [
    "a=56\n",
    "a\n"
   ]
  },
  {
   "cell_type": "code",
   "execution_count": 11,
   "id": "5dcb2535-422f-4b85-8d86-5d420c5b17f2",
   "metadata": {},
   "outputs": [
    {
     "data": {
      "text/plain": [
       "[23, 34, 45, 55, 54, 53]"
      ]
     },
     "execution_count": 11,
     "metadata": {},
     "output_type": "execute_result"
    }
   ],
   "source": [
    "a=[23,34,45,55,54,53]\n",
    "a"
   ]
  },
  {
   "cell_type": "code",
   "execution_count": 13,
   "id": "3475ea73-c31c-4f59-a0ea-e6f569185df8",
   "metadata": {},
   "outputs": [
    {
     "data": {
      "text/plain": [
       "list"
      ]
     },
     "execution_count": 13,
     "metadata": {},
     "output_type": "execute_result"
    }
   ],
   "source": [
    "type(a)"
   ]
  },
  {
   "cell_type": "code",
   "execution_count": 23,
   "id": "3268524d-0776-48d7-9345-56f591310b5a",
   "metadata": {},
   "outputs": [
    {
     "data": {
      "text/plain": [
       "list"
      ]
     },
     "execution_count": 23,
     "metadata": {},
     "output_type": "execute_result"
    }
   ],
   "source": [
    "c=[32,'pooj',2.1]\n",
    "type(c)"
   ]
  },
  {
   "cell_type": "code",
   "execution_count": 51,
   "id": "7495f3c7-0d75-4913-80c1-cb30b2ea87f7",
   "metadata": {},
   "outputs": [
    {
     "data": {
      "text/plain": [
       "[80.34, True, 'data']"
      ]
     },
     "execution_count": 51,
     "metadata": {},
     "output_type": "execute_result"
    }
   ],
   "source": [
    "c=['data',True,80.34,'hyderabuad']\n",
    "c[1]"
   ]
  },
  {
   "cell_type": "code",
   "execution_count": 46,
   "id": "864224ce-625a-4431-9be4-aa6c54674497",
   "metadata": {},
   "outputs": [
    {
     "data": {
      "text/plain": [
       "[True, 80.34]"
      ]
     },
     "execution_count": 46,
     "metadata": {},
     "output_type": "execute_result"
    }
   ],
   "source": [
    "c[1:3]"
   ]
  },
  {
   "cell_type": "markdown",
   "id": "d624f995-5943-407f-a32d-97426d594e6a",
   "metadata": {},
   "source": [
    "c[0::2]"
   ]
  },
  {
   "cell_type": "code",
   "execution_count": 49,
   "id": "632b5535-c6ba-4a27-a21a-8c614d6bfe88",
   "metadata": {},
   "outputs": [
    {
     "data": {
      "text/plain": [
       "['data', 80.34]"
      ]
     },
     "execution_count": 49,
     "metadata": {},
     "output_type": "execute_result"
    }
   ],
   "source": [
    "c[0::2]\n"
   ]
  },
  {
   "cell_type": "markdown",
   "id": "ac3878e5-077a-4395-8826-49edcae3859c",
   "metadata": {},
   "source": [
    "\n",
    "### LIST METHODS"
   ]
  },
  {
   "cell_type": "markdown",
   "id": "b4fab83d-4e92-4f3d-b694-e7c22e264211",
   "metadata": {},
   "source": [
    "#### LIST"
   ]
  },
  {
   "cell_type": "code",
   "execution_count": 1,
   "id": "32b60230-049c-4e1c-aa18-2521c63d2034",
   "metadata": {},
   "outputs": [
    {
     "data": {
      "text/plain": [
       "'india'"
      ]
     },
     "execution_count": 1,
     "metadata": {},
     "output_type": "execute_result"
    }
   ],
   "source": [
    "a='india'\n",
    "a\n"
   ]
  },
  {
   "cell_type": "code",
   "execution_count": 3,
   "id": "4cf24e69-4afd-4586-9597-93e6ca868956",
   "metadata": {},
   "outputs": [
    {
     "data": {
      "text/plain": [
       "'INDIA'"
      ]
     },
     "execution_count": 3,
     "metadata": {},
     "output_type": "execute_result"
    }
   ],
   "source": [
    "a.upper()"
   ]
  },
  {
   "cell_type": "code",
   "execution_count": 5,
   "id": "369c858f-2168-43d2-8051-9059568d677e",
   "metadata": {},
   "outputs": [
    {
     "data": {
      "text/plain": [
       "False"
      ]
     },
     "execution_count": 5,
     "metadata": {},
     "output_type": "execute_result"
    }
   ],
   "source": [
    "a.isdigit()"
   ]
  },
  {
   "cell_type": "code",
   "execution_count": 7,
   "id": "dd9a2e64-5edd-4f59-a765-21ce0c25202e",
   "metadata": {},
   "outputs": [
    {
     "data": {
      "text/plain": [
       "'india'"
      ]
     },
     "execution_count": 7,
     "metadata": {},
     "output_type": "execute_result"
    }
   ],
   "source": [
    "a\n"
   ]
  },
  {
   "cell_type": "code",
   "execution_count": 13,
   "id": "a8bd3ab8-2e91-4d5e-8845-dc5c77bbcef5",
   "metadata": {},
   "outputs": [
    {
     "ename": "SyntaxError",
     "evalue": "invalid syntax (1267530258.py, line 1)",
     "output_type": "error",
     "traceback": [
      "\u001b[1;36m  Cell \u001b[1;32mIn[13], line 1\u001b[1;36m\u001b[0m\n\u001b[1;33m    a.is Str()\u001b[0m\n\u001b[1;37m      ^\u001b[0m\n\u001b[1;31mSyntaxError\u001b[0m\u001b[1;31m:\u001b[0m invalid syntax\n"
     ]
    }
   ],
   "source": [
    "a.is Str()\n"
   ]
  },
  {
   "cell_type": "code",
   "execution_count": 25,
   "id": "37a8879e-fca8-4dc1-8864-9fcc956a7b26",
   "metadata": {},
   "outputs": [
    {
     "ename": "NameError",
     "evalue": "name 'l' is not defined",
     "output_type": "error",
     "traceback": [
      "\u001b[1;31m---------------------------------------------------------------------------\u001b[0m",
      "\u001b[1;31mNameError\u001b[0m                                 Traceback (most recent call last)",
      "Cell \u001b[1;32mIn[25], line 1\u001b[0m\n\u001b[1;32m----> 1\u001b[0m d\u001b[38;5;241m=\u001b[39m{{l:\u001b[38;5;241m1\u001b[39m},\n\u001b[0;32m      2\u001b[0m    {m:\u001b[38;5;241m2\u001b[39m}}\n\u001b[0;32m      3\u001b[0m d\n",
      "\u001b[1;31mNameError\u001b[0m: name 'l' is not defined"
     ]
    }
   ],
   "source": [
    "d={{l:1},\n",
    "   {m:2}}\n",
    "d"
   ]
  },
  {
   "cell_type": "code",
   "execution_count": 27,
   "id": "1797c8fc-2495-4d13-989a-acdd697e2c5f",
   "metadata": {},
   "outputs": [],
   "source": [
    "dict1={\"var1\":(1,2,3,4)}"
   ]
  },
  {
   "cell_type": "code",
   "execution_count": 29,
   "id": "98a14e59-f6b7-4a17-8b00-1a004a781087",
   "metadata": {},
   "outputs": [
    {
     "data": {
      "text/plain": [
       "{'var1': (1, 2, 3, 4)}"
      ]
     },
     "execution_count": 29,
     "metadata": {},
     "output_type": "execute_result"
    }
   ],
   "source": [
    "dict1"
   ]
  },
  {
   "cell_type": "code",
   "execution_count": 31,
   "id": "03191ec6-b8f4-4f16-b54d-c1bc24283052",
   "metadata": {},
   "outputs": [],
   "source": [
    "dict4={101:(8,9)}"
   ]
  },
  {
   "cell_type": "code",
   "execution_count": 33,
   "id": "499e589f-8d41-4813-92e8-491608d1d195",
   "metadata": {},
   "outputs": [
    {
     "data": {
      "text/plain": [
       "{101: (8, 9)}"
      ]
     },
     "execution_count": 33,
     "metadata": {},
     "output_type": "execute_result"
    }
   ],
   "source": [
    "dict4"
   ]
  },
  {
   "cell_type": "code",
   "execution_count": 37,
   "id": "ca2b8bbb-82f9-4af0-a483-9e9420383c43",
   "metadata": {},
   "outputs": [],
   "source": [
    "dict4.update({101:(1,2,3,4,5,7,6,8)})"
   ]
  },
  {
   "cell_type": "code",
   "execution_count": 39,
   "id": "987fd163-4cd9-4f25-8c27-8c1aad107e63",
   "metadata": {},
   "outputs": [
    {
     "data": {
      "text/plain": [
       "{101: (1, 2, 3, 4, 5, 7, 6, 8)}"
      ]
     },
     "execution_count": 39,
     "metadata": {},
     "output_type": "execute_result"
    }
   ],
   "source": [
    "dict4"
   ]
  },
  {
   "cell_type": "code",
   "execution_count": 41,
   "id": "3873b056-d3d6-4a6f-a344-fe84870ea03a",
   "metadata": {},
   "outputs": [
    {
     "ename": "AttributeError",
     "evalue": "'tuple' object has no attribute 'append'",
     "output_type": "error",
     "traceback": [
      "\u001b[1;31m---------------------------------------------------------------------------\u001b[0m",
      "\u001b[1;31mAttributeError\u001b[0m                            Traceback (most recent call last)",
      "Cell \u001b[1;32mIn[41], line 1\u001b[0m\n\u001b[1;32m----> 1\u001b[0m dict4[\u001b[38;5;241m101\u001b[39m]\u001b[38;5;241m.\u001b[39mappend(\u001b[38;5;241m355\u001b[39m)\n",
      "\u001b[1;31mAttributeError\u001b[0m: 'tuple' object has no attribute 'append'"
     ]
    }
   ],
   "source": [
    "dict4[101].append(355)"
   ]
  },
  {
   "cell_type": "code",
   "execution_count": 43,
   "id": "8d08f783-db12-4da3-b893-7e6811ad76c2",
   "metadata": {},
   "outputs": [
    {
     "data": {
      "text/plain": [
       "tuple"
      ]
     },
     "execution_count": 43,
     "metadata": {},
     "output_type": "execute_result"
    }
   ],
   "source": [
    "type(dict4[101])"
   ]
  },
  {
   "cell_type": "code",
   "execution_count": 47,
   "id": "57878eaa-1b8e-42d0-9271-83fabd4e7dc0",
   "metadata": {},
   "outputs": [
    {
     "data": {
      "text/plain": [
       "tuple"
      ]
     },
     "execution_count": 47,
     "metadata": {},
     "output_type": "execute_result"
    }
   ],
   "source": [
    "type(dict1[\"var1\"])"
   ]
  },
  {
   "cell_type": "code",
   "execution_count": 49,
   "id": "be89e9f5-3b3c-498d-a3b4-c07ae039d6be",
   "metadata": {},
   "outputs": [
    {
     "data": {
      "text/plain": [
       "dict"
      ]
     },
     "execution_count": 49,
     "metadata": {},
     "output_type": "execute_result"
    }
   ],
   "source": [
    "type(dict1)"
   ]
  },
  {
   "cell_type": "code",
   "execution_count": 51,
   "id": "f6e97467-bdad-42af-8890-8c3791f3f93f",
   "metadata": {},
   "outputs": [
    {
     "data": {
      "text/plain": [
       "dict"
      ]
     },
     "execution_count": 51,
     "metadata": {},
     "output_type": "execute_result"
    }
   ],
   "source": [
    "type(dict4)"
   ]
  },
  {
   "cell_type": "code",
   "execution_count": 63,
   "id": "6e4af2d7-76c5-42b0-aad4-e2fb76c53bb4",
   "metadata": {},
   "outputs": [],
   "source": [
    "dict2={\n",
    "    1:{50:[21,22,23],'apple':(31,32,33)},\n",
    "    2:\"ball\"\n",
    "}"
   ]
  },
  {
   "cell_type": "code",
   "execution_count": 65,
   "id": "392f3314-f106-4340-8032-e380ae74c2e3",
   "metadata": {},
   "outputs": [
    {
     "data": {
      "text/plain": [
       "{1: {50: [21, 22, 23], 'apple': (31, 32, 33)}, 2: 'ball'}"
      ]
     },
     "execution_count": 65,
     "metadata": {},
     "output_type": "execute_result"
    }
   ],
   "source": [
    "dict2"
   ]
  },
  {
   "cell_type": "code",
   "execution_count": 73,
   "id": "01d76495-e2f8-47c7-ac24-d15a4e54c676",
   "metadata": {},
   "outputs": [
    {
     "data": {
      "text/plain": [
       "31"
      ]
     },
     "execution_count": 73,
     "metadata": {},
     "output_type": "execute_result"
    }
   ],
   "source": [
    "dict2[1]['apple'][0]"
   ]
  },
  {
   "cell_type": "code",
   "execution_count": 75,
   "id": "0269a030-7dcc-4cef-8a37-babab8e30911",
   "metadata": {},
   "outputs": [
    {
     "data": {
      "text/plain": [
       "22"
      ]
     },
     "execution_count": 75,
     "metadata": {},
     "output_type": "execute_result"
    }
   ],
   "source": [
    "dict2[1][50][1]"
   ]
  },
  {
   "cell_type": "code",
   "execution_count": null,
   "id": "c0afd1d0-20c3-4830-a07e-aed83c259eaf",
   "metadata": {},
   "outputs": [],
   "source": [
    "if condition1:\n",
    "    task1 block of code\n",
    "elif condition:\n",
    "    task2 block of code\n",
    "elif condition3:\n",
    "    task3 block of code\n",
    "    .\n",
    "    .\n",
    "    .\n",
    "    .\n",
    "    .\n",
    "elif condition n:\n",
    "task n\n",
    "else:\n",
    "task4 block of code\n",
    "\n",
    "    \n",
    "\n"
   ]
  },
  {
   "cell_type": "code",
   "execution_count": 3,
   "id": "ed13d306-0aed-4448-9dfb-ce046ccabbe7",
   "metadata": {},
   "outputs": [
    {
     "name": "stdout",
     "output_type": "stream",
     "text": [
      "odd\n"
     ]
    }
   ],
   "source": [
    "x=9\n",
    "if x%2==0:\n",
    "    print(\"Even\")\n",
    "else:\n",
    "    print(\"odd\")"
   ]
  },
  {
   "cell_type": "code",
   "execution_count": 11,
   "id": "a4beb51c-28ca-466a-9eab-baf81e77c997",
   "metadata": {},
   "outputs": [
    {
     "data": {
      "text/plain": [
       "True"
      ]
     },
     "execution_count": 11,
     "metadata": {},
     "output_type": "execute_result"
    }
   ],
   "source": []
  },
  {
   "cell_type": "raw",
   "id": "9e8728c9-da89-47a4-a641-a476ce458ba1",
   "metadata": {},
   "source": [
    "x=\"lion\"\n",
    "x=\"tiger\"\n"
   ]
  },
  {
   "cell_type": "code",
   "execution_count": 21,
   "id": "c8c97f5e-8e9a-4fac-bdcd-18037bb60db8",
   "metadata": {},
   "outputs": [
    {
     "ename": "SyntaxError",
     "evalue": "invalid syntax (2312256198.py, line 2)",
     "output_type": "error",
     "traceback": [
      "\u001b[1;36m  Cell \u001b[1;32mIn[21], line 2\u001b[1;36m\u001b[0m\n\u001b[1;33m    if x[0]==\"t\" NOR x[0]==\"T\":\u001b[0m\n\u001b[1;37m                 ^\u001b[0m\n\u001b[1;31mSyntaxError\u001b[0m\u001b[1;31m:\u001b[0m invalid syntax\n"
     ]
    }
   ],
   "source": [
    "x=\"tiger\"\n",
    "if x[0]==\"t\" or x[0]==\"T\":\n",
    "    print(\"true\")\n",
    "else:\n",
    "    print(\"false\")"
   ]
  },
  {
   "cell_type": "code",
   "execution_count": null,
   "id": "a57507ae-9323-4e95-a81a-b4700215a0fd",
   "metadata": {},
   "outputs": [],
   "source": [
    "x=int(input())\n",
    "if x%3=9:\n",
    "    print(\"true\")\n",
    "else:\n",
    "    print(\"false\")"
   ]
  },
  {
   "cell_type": "code",
   "execution_count": 1,
   "id": "d554a32c-c855-4f84-8b2a-1cbc12171ddd",
   "metadata": {},
   "outputs": [
    {
     "data": {
      "text/plain": [
       "[40, 50, 60, 70]"
      ]
     },
     "execution_count": 1,
     "metadata": {},
     "output_type": "execute_result"
    }
   ],
   "source": [
    "dollars=[40,50,60,70]\n",
    "dollars"
   ]
  },
  {
   "cell_type": "code",
   "execution_count": 3,
   "id": "8896582f-28cd-4beb-85e9-8ec54397102f",
   "metadata": {},
   "outputs": [
    {
     "name": "stdout",
     "output_type": "stream",
     "text": [
      "3400\n",
      "4250\n",
      "5100\n",
      "5950\n"
     ]
    }
   ],
   "source": [
    "for i in dollars:\n",
    "    print(i*85)"
   ]
  },
  {
   "cell_type": "code",
   "execution_count": 13,
   "id": "904cfd2c-e960-43c2-b643-5319f8bff965",
   "metadata": {},
   "outputs": [],
   "source": [
    "inr=[]\n",
    "for i in dollars:\n",
    "    inr.append(i*85)"
   ]
  },
  {
   "cell_type": "code",
   "execution_count": 15,
   "id": "cf4b228c-642e-40b7-a0d0-2570ba85e87e",
   "metadata": {},
   "outputs": [
    {
     "data": {
      "text/plain": [
       "[3400, 4250, 5100, 5950]"
      ]
     },
     "execution_count": 15,
     "metadata": {},
     "output_type": "execute_result"
    }
   ],
   "source": [
    "inr"
   ]
  },
  {
   "cell_type": "code",
   "execution_count": 17,
   "id": "01b6b581-6bac-4af8-a7f4-9ed0bc951588",
   "metadata": {},
   "outputs": [
    {
     "data": {
      "text/plain": [
       "[31, 45, 66, 33, 90, 78, 67, 87, 89, 93, 25, 59, 9, 81]"
      ]
     },
     "execution_count": 17,
     "metadata": {},
     "output_type": "execute_result"
    }
   ],
   "source": [
    "num=[\"31\",\"45\",\"66\",33,90,78,67,87,89,93,25,59,9,81]\n",
    "num"
   ]
  },
  {
   "cell_type": "code",
   "execution_count": 62,
   "id": "10f6368a-9d41-43c9-8f8a-e40fee653cf6",
   "metadata": {},
   "outputs": [
    {
     "name": "stdout",
     "output_type": "stream",
     "text": [
      "[31, 45, 33, 67, 87, 89, 93, 25, 59, 9, 81]\n",
      "[66, 90, 78]\n"
     ]
    }
   ],
   "source": [
    " j=[]\n",
    "k=[]\n",
    "for i in num:\n",
    "    if i%2!=0:\n",
    "         j.append(i)\n",
    "    else:\n",
    "        k.append(i)\n",
    "print(j)\n",
    "print(k)"
   ]
  },
  {
   "cell_type": "code",
   "execution_count": 68,
   "id": "586fa591-5a7e-445c-9bc5-65d63b8da65c",
   "metadata": {},
   "outputs": [
    {
     "name": "stdout",
     "output_type": "stream",
     "text": [
      "[31]\n",
      "[31, 45]\n",
      "[31, 45, 66]\n",
      "[31, 45, 66, 33]\n",
      "[31, 45, 66, 33, 10]\n",
      "[31, 45, 66, 33, 10, 78]\n",
      "[31, 45, 66, 33, 10, 78, 67]\n",
      "[31, 45, 66, 33, 10, 78, 67, 87]\n",
      "[31, 45, 66, 33, 10, 78, 67, 87, 81]\n",
      "[31, 45, 66, 33, 10, 78, 67, 87, 81, 13]\n",
      "[31, 45, 66, 33, 10, 78, 67, 87, 81, 13, 25]\n",
      "[31, 45, 66, 33, 10, 78, 67, 87, 81, 13, 25, 51]\n",
      "[31, 45, 66, 33, 10, 78, 67, 87, 81, 13, 25, 51, 1]\n",
      "[31, 45, 66, 33, 10, 78, 67, 87, 81, 13, 25, 51, 1, 81]\n"
     ]
    }
   ],
   "source": [
    "h=[]\n",
    "for i in num:\n",
    "    a=str(i)\n",
    "    b=a.replace('9','1')\n",
    "    c=int(b)\n",
    "    h.append(c)\n",
    "    print(h)"
   ]
  },
  {
   "cell_type": "code",
   "execution_count": null,
   "id": "4e2c6ff5-d49a-4ef8-9012-abc34984493f",
   "metadata": {},
   "outputs": [],
   "source": []
  }
 ],
 "metadata": {
  "kernelspec": {
   "display_name": "Python [conda env:base] *",
   "language": "python",
   "name": "conda-base-py"
  },
  "language_info": {
   "codemirror_mode": {
    "name": "ipython",
    "version": 3
   },
   "file_extension": ".py",
   "mimetype": "text/x-python",
   "name": "python",
   "nbconvert_exporter": "python",
   "pygments_lexer": "ipython3",
   "version": "3.12.7"
  }
 },
 "nbformat": 4,
 "nbformat_minor": 5
}
